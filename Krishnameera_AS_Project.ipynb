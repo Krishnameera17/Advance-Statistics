{
  "nbformat": 4,
  "nbformat_minor": 0,
  "metadata": {
    "colab": {
      "provenance": []
    },
    "kernelspec": {
      "name": "python3",
      "display_name": "Python 3"
    },
    "language_info": {
      "name": "python"
    }
  },
  "cells": [
    {
      "cell_type": "code",
      "execution_count": 85,
      "metadata": {
        "id": "U_nbZiasFqNE"
      },
      "outputs": [],
      "source": [
        "import pandas as pd\n",
        "import numpy as np\n",
        "import matplotlib.pyplot as plt\n",
        "import seaborn as sns\n",
        "%matplotlib inline\n",
        "import scipy.stats as stats\n"
      ]
    },
    {
      "cell_type": "markdown",
      "source": [
        "#A physiotherapist with a male football team is interested in studying the relationship between foot injuries and the positions at which the players play from the data collected\n",
        "1.1 What is the probability that a randomly chosen player would suffer an injury?\n",
        "\n",
        " "
      ],
      "metadata": {
        "id": "LBItYRJUMkzJ"
      }
    },
    {
      "cell_type": "markdown",
      "source": [
        "Probability that a randomly chosen player would suffer an injury=\n",
        "                    No of injured person/ Total no of players\n"
      ],
      "metadata": {
        "id": "h2VtKy0ZTRnE"
      }
    },
    {
      "cell_type": "code",
      "source": [
        "No_of_injured_players= 145\n",
        "Total_no_of_players=235\n",
        "Probality_of_randomly_chosen_player_would_suffer_an_injury = No_of_injured_players/Total_no_of_players\n",
        "print(\"Probality of randomly chosen player would suffer an injury is\",Probality_of_randomly_chosen_player_would_suffer_an_injury)"
      ],
      "metadata": {
        "colab": {
          "base_uri": "https://localhost:8080/"
        },
        "id": "ES3L0apZMt-l",
        "outputId": "088ecec7-3c3d-48eb-9a9d-ad7d5de89186"
      },
      "execution_count": 84,
      "outputs": [
        {
          "output_type": "stream",
          "name": "stdout",
          "text": [
            "Probality of randomly chosen player would suffer an injury is 0.6170212765957447\n"
          ]
        }
      ]
    },
    {
      "cell_type": "markdown",
      "source": [
        "1.2 What is the probability that a player is a forward or a winger?"
      ],
      "metadata": {
        "id": "hp3qqEdcOD7W"
      }
    },
    {
      "cell_type": "code",
      "source": [
        "No_of_forward_players=94\n",
        "No_of_winger_players=29\n",
        "Probality_of_player_is_forward_or_winger = (No_of_forward_players+No_of_winger_players)/Total_no_of_players\n",
        "print(\"Probability that a player is a forward or a winger\",Probality_of_player_is_forward_or_winger)"
      ],
      "metadata": {
        "colab": {
          "base_uri": "https://localhost:8080/"
        },
        "id": "TrZL64JhOC3d",
        "outputId": "79d0586c-c9aa-472d-f291-cf40975193b4"
      },
      "execution_count": 5,
      "outputs": [
        {
          "output_type": "stream",
          "name": "stdout",
          "text": [
            "Probability that a player is a forward or a winger 0.5234042553191489\n"
          ]
        }
      ]
    },
    {
      "cell_type": "markdown",
      "source": [
        "1.3 What is the probability that a randomly chosen player plays in a striker position and has a foot injury?"
      ],
      "metadata": {
        "id": "ESAra_7kPEDd"
      }
    },
    {
      "cell_type": "code",
      "source": [
        "Total_no_of_striker_players=77\n",
        "No_of_players_is_striker_and_injured=45\n",
        "Probability_that_random_player_is_striker_and_injured=No_of_players_is_striker_and_injured/Total_no_of_striker_players\n",
        "print(\"Probability that a randomly chosen player plays in a striker position and has a foot injury\",Probability_that_random_player_is_striker_and_injured)"
      ],
      "metadata": {
        "colab": {
          "base_uri": "https://localhost:8080/"
        },
        "id": "c6ppgBT7PI72",
        "outputId": "92a5a83b-7d2d-4056-ef5d-63b3b0aaeba8"
      },
      "execution_count": 6,
      "outputs": [
        {
          "output_type": "stream",
          "name": "stdout",
          "text": [
            "Probability that a randomly chosen player plays in a striker position and has a foot injury 0.5844155844155844\n"
          ]
        }
      ]
    },
    {
      "cell_type": "markdown",
      "source": [
        "1.4 What is the probability that a randomly chosen injured player is a striker?"
      ],
      "metadata": {
        "id": "zh8CzvFtQB5x"
      }
    },
    {
      "cell_type": "code",
      "source": [
        "Probability_that_random_player_is_injured_and_striker=No_of_players_is_striker_and_injured/No_of_injured_players\n",
        "print(\"Probability that a randomly chosen injured player is a striker\",Probability_that_random_player_is_injured_and_striker)"
      ],
      "metadata": {
        "colab": {
          "base_uri": "https://localhost:8080/"
        },
        "id": "Kh1I_O6-QFCA",
        "outputId": "c9ac8eb8-a43f-4bae-c11b-b5fa2fced0d8"
      },
      "execution_count": 7,
      "outputs": [
        {
          "output_type": "stream",
          "name": "stdout",
          "text": [
            "Probability that a randomly chosen injured player is a striker 0.3103448275862069\n"
          ]
        }
      ]
    },
    {
      "cell_type": "markdown",
      "source": [
        "1.5 What is the probability that a randomly chosen injured player is either a forward or an attacking midfielder? \n",
        "\n",
        "No of forwarde who is injured\n",
        "\n",
        "Probability that a randomly chosen injured player is either a forward or an attacking midfielder = \n",
        "         \n",
        "         (No of forwarde who is injured + No of attacking midfielder who is injured) / Total no of injured persons"
      ],
      "metadata": {
        "id": "1iPrPw9kQ1C2"
      }
    },
    {
      "cell_type": "code",
      "source": [
        "No_of_forwarde_who_is_injured=56\n",
        "No_of_attacking_midfielder_who_is_injured=24\n",
        "Probability_of_randon_player_is_forward_or_attack_midfielder_who_injured=(No_of_forwarde_who_is_injured+No_of_attacking_midfielder_who_is_injured)/No_of_injured_players\n",
        "print(\"Probability that a randomly chosen injured player is either a forward or an attacking midfielde\",Probability_of_randon_player_is_forward_or_attack_midfielder_who_injured)\n"
      ],
      "metadata": {
        "colab": {
          "base_uri": "https://localhost:8080/"
        },
        "id": "DsoFY4M0Q22-",
        "outputId": "d000d03c-a72e-4321-cc51-ba9755cb8baa"
      },
      "execution_count": 8,
      "outputs": [
        {
          "output_type": "stream",
          "name": "stdout",
          "text": [
            "Probability that a randomly chosen injured player is either a forward or an attacking midfielde 0.5517241379310345\n"
          ]
        }
      ]
    },
    {
      "cell_type": "markdown",
      "source": [
        "#Problem 2\n",
        "\n",
        "#An independent research organization is trying to estimate the probability that an accident at a nuclear power plant will result in radiation leakage. The types of accidents possible at the plant are, fire hazards, mechanical failure, or human error. The research organization also knows that two or more types of accidents cannot occur simultaneously.\n",
        "\n",
        "#According to the studies carried out by the organization, the probability of a radiation leak in case of a fire is 20%, the probability of a radiation leak in case of a mechanical 50%, and the probability of a radiation leak in case of a human error is 10%. The studies also showed the following;\n",
        "\n",
        "#The probability of a radiation leak occurring simultaneously with a fire is 0.1%.\n",
        "#The probability of a radiation leak occurring simultaneously with a mechanical failure is 0.15%.\n",
        "#The probability of a radiation leak occurring simultaneously with a human error is 0.12%.\n",
        "#On the basis of the information available, answer the questions below:\n",
        "\n",
        "\n",
        "\n"
      ],
      "metadata": {
        "id": "FR8V6PRa9Z8v"
      }
    },
    {
      "cell_type": "markdown",
      "source": [
        "2.1 What are the probabilities of a fire, a mechanical failure, and a human error respectively?"
      ],
      "metadata": {
        "id": "5KboG4qm9q76"
      }
    },
    {
      "cell_type": "markdown",
      "source": [
        "Probability by a fire= probability of a radiation leak in case of a fire/Total number of radiation leak outcomes "
      ],
      "metadata": {
        "id": "6hVg312o93zu"
      }
    },
    {
      "cell_type": "code",
      "source": [
        "Prob_rad_fire=20\n",
        "Prob_rad_Mech=50\n",
        "Prob_rad_human=10\n",
        "Prob_fire=Prob_rad_fire/(Prob_rad_fire+Prob_rad_Mech+Prob_rad_human)\n",
        "print(\"Probability by a fire is\",Prob_fire)"
      ],
      "metadata": {
        "colab": {
          "base_uri": "https://localhost:8080/"
        },
        "id": "BHETVxgE-n_A",
        "outputId": "ba8e9781-6330-498f-d99a-b5fd2ed6d065"
      },
      "execution_count": 49,
      "outputs": [
        {
          "output_type": "stream",
          "name": "stdout",
          "text": [
            "Probability by a fire is 0.25\n"
          ]
        }
      ]
    },
    {
      "cell_type": "code",
      "source": [
        "Prob_rad_fire=20\n",
        "Prob_rad_Mech=50\n",
        "Prob_rad_human=10\n",
        "Prob_Mech=Prob_rad_Mech/(Prob_rad_fire+Prob_rad_Mech+Prob_rad_human)\n",
        "print(\"Probability by a Mech is\",Prob_Mech)"
      ],
      "metadata": {
        "colab": {
          "base_uri": "https://localhost:8080/"
        },
        "id": "-_7qq1tc_a1Q",
        "outputId": "36a7569b-ca63-4f65-9350-6b9ef08c4073"
      },
      "execution_count": 52,
      "outputs": [
        {
          "output_type": "stream",
          "name": "stdout",
          "text": [
            "Probability by a Mech is 0.625\n"
          ]
        }
      ]
    },
    {
      "cell_type": "code",
      "source": [
        "Prob_human=Prob_rad_human/(Prob_rad_fire+Prob_rad_Mech+Prob_rad_human)\n",
        "print(\"Probability by a Human error is\",Prob_human)"
      ],
      "metadata": {
        "colab": {
          "base_uri": "https://localhost:8080/"
        },
        "id": "gEflsPjvWYKj",
        "outputId": "f4026f7d-608b-4900-a740-6078b26de184"
      },
      "execution_count": 53,
      "outputs": [
        {
          "output_type": "stream",
          "name": "stdout",
          "text": [
            "Probability by a Human error is 0.125\n"
          ]
        }
      ]
    },
    {
      "cell_type": "markdown",
      "source": [
        "2.2 What is the probability of a radiation leak?"
      ],
      "metadata": {
        "id": "FeUOLdFlW-A2"
      }
    },
    {
      "cell_type": "code",
      "source": [
        "Prob_fire_1=0.1\n",
        "Prob_mech_1=0.15\n",
        "Prob_human_1=0.12"
      ],
      "metadata": {
        "id": "trYlisoUXfOs"
      },
      "execution_count": 55,
      "outputs": []
    },
    {
      "cell_type": "code",
      "source": [
        "Prob_rad= Prob_fire_1+Prob_mech_1+Prob_human_1\n",
        "print(\"Probability of a Radiation Leak is\", Prob_rad)"
      ],
      "metadata": {
        "colab": {
          "base_uri": "https://localhost:8080/"
        },
        "id": "DitreNNFXBOz",
        "outputId": "bc9764b0-64e3-4138-a658-181a2b650c61"
      },
      "execution_count": 56,
      "outputs": [
        {
          "output_type": "stream",
          "name": "stdout",
          "text": [
            "Probability of a Radiation Leak is 0.37\n"
          ]
        }
      ]
    },
    {
      "cell_type": "markdown",
      "source": [
        "2.3 Suppose there has been a radiation leak in the reactor for which the definite cause is not known. What is the probability that it has been caused by:\n",
        "\n",
        "A Fire.\n",
        "\n",
        "A Mechanical Failure.\n",
        "\n",
        "A Human Error.\n",
        "\n",
        "\n",
        "Probabailty of Radiation leak due to fire"
      ],
      "metadata": {
        "id": "6kV7n-QPYwhC"
      }
    },
    {
      "cell_type": "code",
      "source": [
        "Prob_rad_fire_1=Prob_fire_1/Prob_rad\n",
        "print(\"Probabilty of radiation leak due to fire is\",round(Prob_rad_fire_1,2))"
      ],
      "metadata": {
        "colab": {
          "base_uri": "https://localhost:8080/"
        },
        "id": "dgUtL-MZZMlW",
        "outputId": "fd288885-bee2-4316-ca1a-1aa78f5b8c1b"
      },
      "execution_count": 62,
      "outputs": [
        {
          "output_type": "stream",
          "name": "stdout",
          "text": [
            "Probabilty of radiation leak due to fire is 0.27\n"
          ]
        }
      ]
    },
    {
      "cell_type": "code",
      "source": [
        "Prob_rad_mech_1=Prob_mech_1/Prob_rad\n",
        "print(\"Probabilty of radiation leak due to Mechanical failure is\",round(Prob_rad_mech_1,2))"
      ],
      "metadata": {
        "colab": {
          "base_uri": "https://localhost:8080/"
        },
        "id": "pKizHWDuanpr",
        "outputId": "4382ea5c-1274-4201-9d53-97bcc65d11b2"
      },
      "execution_count": 64,
      "outputs": [
        {
          "output_type": "stream",
          "name": "stdout",
          "text": [
            "Probabilty of radiation leak due to Mechanical failure is 0.41\n"
          ]
        }
      ]
    },
    {
      "cell_type": "code",
      "source": [
        "Prob_rad_human_1=Prob_human_1/Prob_rad\n",
        "print(\"Probabilty of radiation leak due to Human error is\",round(Prob_rad_human_1,2))"
      ],
      "metadata": {
        "colab": {
          "base_uri": "https://localhost:8080/"
        },
        "id": "HBx-OwmFbDc5",
        "outputId": "2c3e95f5-0253-45b2-dbf6-641811f14c78"
      },
      "execution_count": 65,
      "outputs": [
        {
          "output_type": "stream",
          "name": "stdout",
          "text": [
            "Probabilty of radiation leak due to Human error is 0.32\n"
          ]
        }
      ]
    },
    {
      "cell_type": "markdown",
      "source": [
        "#Problem 3:\n",
        "\n",
        "#The breaking strength of gunny bags used for packaging cement is normally distributed with a mean of 5 kg per sq. centimeter and a standard deviation of 1.5 kg per sq. centimeter. The quality team of the cement company wants to know the following about the packaging material to better understand wastage or pilferage within the supply chain; Answer the questions below based on the given information; (Provide an appropriate visual representation of your answers, without which marks will be deducted)"
      ],
      "metadata": {
        "id": "M0NRG7pYTjpj"
      }
    },
    {
      "cell_type": "code",
      "source": [
        "from scipy.stats import norm"
      ],
      "metadata": {
        "id": "u2eJxCGUUMoN"
      },
      "execution_count": 2,
      "outputs": []
    },
    {
      "cell_type": "markdown",
      "source": [
        "3.1 What proportion of the gunny bags have a breaking strength less than 3.17 kg per sq cm?\n",
        "\n",
        "\n",
        "Mean=5 kg per sq. centimeter\n",
        "\n",
        "Standard deviation=SD=1.5 \n",
        "\n",
        "Probability of gunny bags have a breaking strength less than 3.7 = Prob_less\n",
        "\n",
        "=norm.cdf(3.7, mean, SD)"
      ],
      "metadata": {
        "id": "E_GgAi_xWOJE"
      }
    },
    {
      "cell_type": "code",
      "source": [
        "Mean=5\n",
        "SD=1.5\n",
        "\n",
        "Prob_less= norm.cdf(3.17,Mean,SD)\n",
        "print(\"Probability of gunny bags have a breaking strength less than 3.17 is\",round(Prob_less,3))"
      ],
      "metadata": {
        "colab": {
          "base_uri": "https://localhost:8080/"
        },
        "id": "_BXFEUByW9J9",
        "outputId": "f4ffdbfb-c42e-434c-d5d1-bfc51363f676"
      },
      "execution_count": 91,
      "outputs": [
        {
          "output_type": "stream",
          "name": "stdout",
          "text": [
            "Probability of gunny bags have a breaking strength less than 3.17 is 0.111\n"
          ]
        }
      ]
    },
    {
      "cell_type": "code",
      "source": [
        "Min = Mean-(3*1.5)\n",
        "Max = Mean+(3*1.5)\n"
      ],
      "metadata": {
        "id": "tEG3O0TnYE2b"
      },
      "execution_count": 74,
      "outputs": []
    },
    {
      "cell_type": "code",
      "source": [],
      "metadata": {
        "id": "RCPDExq0kv8q"
      },
      "execution_count": null,
      "outputs": []
    },
    {
      "cell_type": "code",
      "source": [
        "density = pd.DataFrame() # create an empty DataFrame\n",
        "density[\"x\"] = np.linspace(Min, Max, 100)\n",
        "density[\"pdf\"] = norm.pdf(density[\"x\"], Mean, SD) # calculate the pdf() of the created numbers and store it in another column named 'pdf'\n",
        "plt.plot(density[\"x\"], density[\"pdf\"]) # plot the pdf of the normal distribution\n",
        "plt.axvline(x=3.17, c=\"r\") # draw a red vertical line at x = 3.7\n",
        "x1 = np.linspace(density[\"x\"].min(), 3.17, 50) # create an array of 50 numbers between min SAT score and 800\n",
        "plt.fill_between(x1, norm.pdf(x1, Mean, SD), color=\"r\") # fill the specified region with red color\n",
        "plt.xlabel(\"Strength\") # set the x-axis label\n",
        "plt.ylabel(\"Probability\") # set the y-axis label\n",
        "plt.title(\"Normal Distribution\") # set the title\n",
        "plt.show() # display the plot"
      ],
      "metadata": {
        "colab": {
          "base_uri": "https://localhost:8080/",
          "height": 295
        },
        "id": "eggQQD7mjTro",
        "outputId": "cfe95fb4-cd88-4626-cf3b-5e2eb3b7f8eb"
      },
      "execution_count": 75,
      "outputs": [
        {
          "output_type": "display_data",
          "data": {
            "text/plain": [
              "<Figure size 432x288 with 1 Axes>"
            ],
            "image/png": "[encoded data removed]"
          },
          "metadata": {
            "needs_background": "light"
          }
        }
      ]
    },
    {
      "cell_type": "markdown",
      "source": [
        "3.2 What proportion of the gunny bags have a breaking strength at least 3.6 kg per sq cm.?\n",
        "\n",
        "Probability of gunny bags have a breaking strength greater than and equal to 3.6\n"
      ],
      "metadata": {
        "id": "HuqgIbqWcT8I"
      }
    },
    {
      "cell_type": "code",
      "source": [
        "Prob_greater=1-norm.cdf(3.6,Mean,SD)\n",
        "print(\"Probability of gunny bags have a breaking strength greater than and equal to 3.6 is\",round(Prob_greater,3))"
      ],
      "metadata": {
        "colab": {
          "base_uri": "https://localhost:8080/"
        },
        "id": "KpkBnTJScaKc",
        "outputId": "ed99d2b4-1fb2-43f4-f841-c75d83e43cf2"
      },
      "execution_count": 76,
      "outputs": [
        {
          "output_type": "stream",
          "name": "stdout",
          "text": [
            "Probability of gunny bags have a breaking strength greater than and equal to 3.6 is 0.825\n"
          ]
        }
      ]
    },
    {
      "cell_type": "code",
      "source": [
        "plt.plot(density[\"x\"], density[\"pdf\"]) # plot the pdf of the normal distribution\n",
        "plt.axvline(x=3.6, c=\"r\") # draw a red vertical line at x = 3.7\n",
        "x1 = np.linspace(3.6, density[\"x\"].max(), 50) # create an array of 50 numbers between min SAT score and 800\n",
        "plt.fill_between(x1, norm.pdf(x1, Mean, SD), color=\"r\") # fill the specified region with red color\n",
        "plt.xlabel(\"Strength\") # set the x-axis label\n",
        "plt.ylabel(\"Probability\") # set the y-axis label\n",
        "plt.title(\"Normal Distribution\") # set the title\n",
        "plt.show() # display the plot"
      ],
      "metadata": {
        "colab": {
          "base_uri": "https://localhost:8080/",
          "height": 295
        },
        "id": "Zcq_Iz5Tk6-I",
        "outputId": "01d51ed7-1ebe-43f8-a241-3ddc52a79520"
      },
      "execution_count": 29,
      "outputs": [
        {
          "output_type": "display_data",
          "data": {
            "text/plain": [
              "<Figure size 432x288 with 1 Axes>"
            ],
            "image/png": "[encoded data removed]"
          },
          "metadata": {
            "needs_background": "light"
          }
        }
      ]
    },
    {
      "cell_type": "markdown",
      "source": [
        "3.3 What proportion of the gunny bags have a breaking strength between 5 and 5.5 kg per sq cm.?\n",
        "\n"
      ],
      "metadata": {
        "id": "4IBrs6kVe-Wv"
      }
    },
    {
      "cell_type": "code",
      "source": [
        "Prob= stats.norm.cdf(5.5,Mean,SD)- stats.norm.cdf(5,Mean,SD)\n",
        "print(\"Probability of gunny bags have a breaking strength between 5 and 5.5 kg per sq cm is \",round(Prob,3))"
      ],
      "metadata": {
        "colab": {
          "base_uri": "https://localhost:8080/"
        },
        "id": "rULZo7sMhB7b",
        "outputId": "0607eae8-96f0-46cb-c33c-b3cd3e85f2a2"
      },
      "execution_count": 92,
      "outputs": [
        {
          "output_type": "stream",
          "name": "stdout",
          "text": [
            "Probability of gunny bags have a breaking strength between 5 and 5.5 kg per sq cm is  0.131\n"
          ]
        }
      ]
    },
    {
      "cell_type": "code",
      "source": [
        "plt.plot(density[\"x\"], density[\"pdf\"]) # plot the pdf of the normal distribution\n",
        "plt.axvline(x=5, c=\"r\") # draw a red vertical line at x = 5\n",
        "plt.axvline(x=5.5, c=\"r\")\n",
        "x1 = np.linspace(5,5.5, 50) # create an array of 50 numbers between min SAT score and 800\n",
        "plt.fill_between(x1, norm.pdf(x1, Mean, SD), color=\"r\") # fill the specified region with red color\n",
        "plt.xlabel(\"Strength\") # set the x-axis label\n",
        "plt.ylabel(\"Probability\") # set the y-axis label\n",
        "plt.title(\"Normal Distribution\") # set the title\n",
        "plt.show() # display the plot"
      ],
      "metadata": {
        "colab": {
          "base_uri": "https://localhost:8080/",
          "height": 295
        },
        "id": "wQt89ImXmS22",
        "outputId": "05ea2bbf-0278-4e59-e40d-038f503c7e6b"
      },
      "execution_count": 31,
      "outputs": [
        {
          "output_type": "display_data",
          "data": {
            "text/plain": [
              "<Figure size 432x288 with 1 Axes>"
            ],
            "image/png": "[encoded data removed]"
          },
          "metadata": {
            "needs_background": "light"
          }
        }
      ]
    },
    {
      "cell_type": "markdown",
      "source": [
        "3.4 What proportion of the gunny bags have a breaking strength NOT between 3 and 7.5 kg per sq cm.?\n",
        "\n",
        "Means below 3 and greater than 7.5 per sq cm.\n",
        "\n"
      ],
      "metadata": {
        "id": "bwFIbnEwhqxv"
      }
    },
    {
      "cell_type": "code",
      "source": [
        "Prob1  =  norm.cdf(3,Mean,SD)\n",
        "Prob2  =  1 - norm.cdf(7.5,Mean,SD)\n",
        "print(\"Probability that the gunny bags have a breaking strength NOT between 3 and 7.5 kg per sq cm\" ,round((Prob1 + Prob2),3))\n"
      ],
      "metadata": {
        "colab": {
          "base_uri": "https://localhost:8080/"
        },
        "id": "IWNJC_uNcaHu",
        "outputId": "321d19aa-36bb-4c87-b876-b10b2fc83842"
      },
      "execution_count": 77,
      "outputs": [
        {
          "output_type": "stream",
          "name": "stdout",
          "text": [
            "Probability that the gunny bags have a breaking strength NOT between 3 and 7.5 kg per sq cm 0.139\n"
          ]
        }
      ]
    },
    {
      "cell_type": "code",
      "source": [
        "plt.plot(density[\"x\"], density[\"pdf\"]) # plot the pdf of the normal distribution\n",
        "plt.axvline(x=3, c=\"r\") # draw a red vertical line at x = 5\n",
        "plt.axvline(x=7.5, c=\"r\")\n",
        "x1 = np.linspace(density[\"x\"].min(), 3, 50) # create an array of 50 numbers between min SAT score and 800\n",
        "plt.fill_between(x1, norm.pdf(x1, Mean, SD), color=\"r\") \n",
        "x2 = np.linspace(7.5, density[\"x\"].max(), 50) # create an array of 50 numbers between min SAT score and 800\n",
        "plt.fill_between(x2, norm.pdf(x2, Mean, SD), color=\"r\")\n",
        "plt.xlabel(\"Strength\") # set the x-axis label\n",
        "plt.ylabel(\"Probability\") # set the y-axis label\n",
        "plt.title(\"Normal Distribution\") # set the title\n",
        "plt.show() # display the plot"
      ],
      "metadata": {
        "colab": {
          "base_uri": "https://localhost:8080/",
          "height": 295
        },
        "id": "XZtMq6JfnIBu",
        "outputId": "f35e0711-364c-4a77-977e-c306f77eca12"
      },
      "execution_count": 35,
      "outputs": [
        {
          "output_type": "display_data",
          "data": {
            "text/plain": [
              "<Figure size 432x288 with 1 Axes>"
            ],
            "image/png": "[encoded data removed]"
          },
          "metadata": {
            "needs_background": "light"
          }
        }
      ]
    },
    {
      "cell_type": "markdown",
      "source": [
        "#Problem 4:\n",
        "\n",
        "\n",
        "#Grades of the final examination in a training course are found to be normally distributed, with a mean of 77 and a standard deviation of 8.5. Based on the given information answer the questions below."
      ],
      "metadata": {
        "id": "jQCAGt3hpK9e"
      }
    },
    {
      "cell_type": "markdown",
      "source": [
        "4.1 What is the probability that a randomly chosen student gets a grade below 85 on this exam?"
      ],
      "metadata": {
        "id": "MjkWCfyupkev"
      }
    },
    {
      "cell_type": "code",
      "source": [
        "Mean1=77\n",
        "SD1=8.5\n",
        "\n",
        "Prob_less_grade= norm.cdf(85,Mean1,SD1)\n",
        "print(\"Probability that a randomly chosen student gets a grade below 85 on this exam is\",Prob_less_grade)"
      ],
      "metadata": {
        "colab": {
          "base_uri": "https://localhost:8080/"
        },
        "id": "ITNM1xxnpY8N",
        "outputId": "19a2af87-59ee-41c8-d3bb-7599513c519d"
      },
      "execution_count": 80,
      "outputs": [
        {
          "output_type": "stream",
          "name": "stdout",
          "text": [
            "Probability that a randomly chosen student gets a grade below 85 on this exam is 0.8266927837484748\n"
          ]
        }
      ]
    },
    {
      "cell_type": "code",
      "source": [
        "Min1 = Mean1-(3*SD1)\n",
        "Max1 = Mean1+(3*SD1)\n",
        "print(\"Lower limit is\",Min1)\n",
        "print(\"Upper limit is\",Max1)"
      ],
      "metadata": {
        "colab": {
          "base_uri": "https://localhost:8080/"
        },
        "id": "Rp2y2zkPqX-i",
        "outputId": "447f316b-7be2-430e-c453-0c8e17923c92"
      },
      "execution_count": 100,
      "outputs": [
        {
          "output_type": "stream",
          "name": "stdout",
          "text": [
            "Lower limit is 51.5\n",
            "Upper limit is 102.5\n"
          ]
        }
      ]
    },
    {
      "cell_type": "code",
      "source": [
        "density1 = pd.DataFrame() # create an empty DataFrame\n",
        "density1[\"x\"] = np.linspace(Min1, Max1, 100)\n",
        "density1[\"pdf\"] = norm.pdf(density1[\"x\"], Mean1, SD1) # calculate the pdf() of the created numbers and store it in another column named 'pdf'\n",
        "plt.plot(density1[\"x\"], density1[\"pdf\"]) # plot the pdf of the normal distribution\n",
        "plt.axvline(x=85, c=\"r\") # draw a red vertical line at x = 3.7\n",
        "x3 = np.linspace(density1[\"x\"].min(), 85, 50) # create an array of 50 numbers between min SAT score and 800\n",
        "plt.fill_between(x3, norm.pdf(x3, Mean1, SD1), color=\"r\") # fill the specified region with red color\n",
        "plt.xlabel(\"Students\") # set the x-axis label\n",
        "plt.ylabel(\"Probability\") # set the y-axis label\n",
        "plt.title(\"Normal Distribution\") # set the title\n",
        "plt.show() # display the plot"
      ],
      "metadata": {
        "colab": {
          "base_uri": "https://localhost:8080/",
          "height": 295
        },
        "id": "VfQ_Se8LqM_r",
        "outputId": "53b5d0d9-25ce-465a-8173-22ee9c1624d9"
      },
      "execution_count": 40,
      "outputs": [
        {
          "output_type": "display_data",
          "data": {
            "text/plain": [
              "<Figure size 432x288 with 1 Axes>"
            ],
            "image/png": "[encoded data removed]"
          },
          "metadata": {
            "needs_background": "light"
          }
        }
      ]
    },
    {
      "cell_type": "markdown",
      "source": [
        "4.2 What is the probability that a randomly selected student scores between 65 and 87?"
      ],
      "metadata": {
        "id": "-VuZrlsHrnCe"
      }
    },
    {
      "cell_type": "code",
      "source": [
        "Prob4= stats.norm.cdf(87,Mean1,SD1)- stats.norm.cdf(65,Mean1,SD1)\n",
        "print(\"Probability that a randomly selected student scores between 65 and 87 is \",round(Prob4,3))"
      ],
      "metadata": {
        "colab": {
          "base_uri": "https://localhost:8080/"
        },
        "id": "yQPczWW-r36l",
        "outputId": "0f8a1f9d-df2b-43f3-8b22-38ba1d1c1eae"
      },
      "execution_count": 82,
      "outputs": [
        {
          "output_type": "stream",
          "name": "stdout",
          "text": [
            "Probability that a randomly selected student scores between 65 and 87 is  0.801\n"
          ]
        }
      ]
    },
    {
      "cell_type": "code",
      "source": [
        "plt.plot(density1[\"x\"], density1[\"pdf\"]) # plot the pdf of the normal distribution\n",
        "plt.axvline(x=65, c=\"r\") # draw a red vertical line at x = 3.7\n",
        "plt.axvline(x=87, c=\"r\") # draw a red vertical line at x = 3.7\n",
        "x4 = np.linspace(65,87, 50) # create an array of 50 numbers between 65 and 87\n",
        "plt.fill_between(x4, norm.pdf(x4, Mean1, SD1), color=\"r\") # fill the specified region with red color\n",
        "plt.xlabel(\"Students\") # set the x-axis label\n",
        "plt.ylabel(\"Probability\") # set the y-axis label\n",
        "plt.title(\"Normal Distribution\") # set the title\n",
        "plt.show() # display the plot"
      ],
      "metadata": {
        "colab": {
          "base_uri": "https://localhost:8080/",
          "height": 295
        },
        "id": "T2sWIMbwrilv",
        "outputId": "78b3b9d2-9d07-4a52-8768-a64d0d3c4e94"
      },
      "execution_count": 42,
      "outputs": [
        {
          "output_type": "display_data",
          "data": {
            "text/plain": [
              "<Figure size 432x288 with 1 Axes>"
            ],
            "image/png": "[encoded data removed]"
          },
          "metadata": {
            "needs_background": "light"
          }
        }
      ]
    },
    {
      "cell_type": "markdown",
      "source": [
        "4.3 What should be the passing cut-off so that 75% of the students clear the exam?\n",
        "\n"
      ],
      "metadata": {
        "id": "5FXRG4q3stX-"
      }
    },
    {
      "cell_type": "code",
      "source": [
        "score_75_students = norm.ppf(0.25, Mean1, SD1)\n",
        "print(\"passing cut-off so that 75% of the students clear the exam\",score_75_students)"
      ],
      "metadata": {
        "colab": {
          "base_uri": "https://localhost:8080/"
        },
        "id": "8wpSJwtwuIS9",
        "outputId": "e5b2e464-58d0-4302-a172-e6f56c72ab5b"
      },
      "execution_count": 47,
      "outputs": [
        {
          "output_type": "stream",
          "name": "stdout",
          "text": [
            "passing cut-off so that 75% of the students clear the exam 71.2668371233333\n"
          ]
        }
      ]
    },
    {
      "cell_type": "code",
      "source": [
        "plt.plot(density1[\"x\"], density1[\"pdf\"])\n",
        "plt.axvline(x=score_75_students, c=\"r\")\n",
        "plt.xlabel(\"Score\")\n",
        "plt.ylabel(\"Probability\")\n",
        "plt.title(\"Normal Distribution\")\n",
        "plt.show()"
      ],
      "metadata": {
        "colab": {
          "base_uri": "https://localhost:8080/",
          "height": 295
        },
        "id": "QRCIg5mSvapK",
        "outputId": "0dbd2201-4c21-4d15-c221-7fde4ce6589b"
      },
      "execution_count": 48,
      "outputs": [
        {
          "output_type": "display_data",
          "data": {
            "text/plain": [
              "<Figure size 432x288 with 1 Axes>"
            ],
            "image/png": "[encoded data removed]"
          },
          "metadata": {
            "needs_background": "light"
          }
        }
      ]
    },
    {
      "cell_type": "markdown",
      "source": [
        "\n",
        "#Problem 5\n",
        "#Zingaro stone printing is a company that specializes in printing images or patterns on polished or unpolished stones. However, for the optimum level of printing of the image the stone surface has to have a Brinell's hardness index of at least 150. Recently, Zingaro has received a batch of polished and unpolished stones from its clients. Use the data provided to answer the following (assuming a 5% significance level);\n",
        "\n",
        " \n",
        "\n",
        "5.1 Earlier experience of Zingaro with this particular client is favorable as the stone surface was found to be of adequate hardness. However, Zingaro has reason to believe now that the unpolished stones may not be suitable for printing. Do you think Zingaro is justified in thinking so?\n",
        "\n"
      ],
      "metadata": {
        "id": "7zDdtGKGVusF"
      }
    },
    {
      "cell_type": "code",
      "source": [
        "import scipy.stats as stats\n",
        "import statsmodels.stats.api as sm\n",
        "from scipy.stats import ttest_1samp, ttest_ind\n",
        "from statsmodels.stats.power import ttest_power"
      ],
      "metadata": {
        "id": "eZUmH3q2t_ve"
      },
      "execution_count": 13,
      "outputs": []
    },
    {
      "cell_type": "code",
      "source": [
        "from google.colab import drive\n",
        "drive.mount('/content/drive')"
      ],
      "metadata": {
        "colab": {
          "base_uri": "https://localhost:8080/"
        },
        "id": "9pE1DftTqmXF",
        "outputId": "395de15a-e86c-4951-b533-2ca07b4dbea8"
      },
      "execution_count": 3,
      "outputs": [
        {
          "output_type": "stream",
          "name": "stdout",
          "text": [
            "Mounted at /content/drive\n"
          ]
        }
      ]
    },
    {
      "cell_type": "code",
      "source": [
        "Zingaro=pd.read_csv('/content/drive/MyDrive/Zingaro_Company.csv')"
      ],
      "metadata": {
        "id": "kZo4DLvqrMN1"
      },
      "execution_count": 49,
      "outputs": []
    },
    {
      "cell_type": "code",
      "source": [
        "Zingaro.head()"
      ],
      "metadata": {
        "colab": {
          "base_uri": "https://localhost:8080/",
          "height": 206
        },
        "id": "ItabnynMojkb",
        "outputId": "29b671d3-398e-46ca-c00b-d1ae55a7e46d"
      },
      "execution_count": 50,
      "outputs": [
        {
          "output_type": "execute_result",
          "data": {
            "text/plain": [
              "   Unpolished   Treated and Polished\n",
              "0   164.481713            133.209393\n",
              "1   154.307045            138.482771\n",
              "2   129.861048            159.665201\n",
              "3   159.096184            145.663528\n",
              "4   135.256748            136.789227"
            ],
            "text/html": [
              "\n",
              "  <div id=\"df-fd3256b6-c0a9-4474-bfbc-a60638e4452a\">\n",
              "    <div class=\"colab-df-container\">\n",
              "      <div>\n",
              "<style scoped>\n",
              "    .dataframe tbody tr th:only-of-type {\n",
              "        vertical-align: middle;\n",
              "    }\n",
              "\n",
              "    .dataframe tbody tr th {\n",
              "        vertical-align: top;\n",
              "    }\n",
              "\n",
              "    .dataframe thead th {\n",
              "        text-align: right;\n",
              "    }\n",
              "</style>\n",
              "<table border=\"1\" class=\"dataframe\">\n",
              "  <thead>\n",
              "    <tr style=\"text-align: right;\">\n",
              "      <th></th>\n",
              "      <th>Unpolished</th>\n",
              "      <th>Treated and Polished</th>\n",
              "    </tr>\n",
              "  </thead>\n",
              "  <tbody>\n",
              "    <tr>\n",
              "      <th>0</th>\n",
              "      <td>164.481713</td>\n",
              "      <td>133.209393</td>\n",
              "    </tr>\n",
              "    <tr>\n",
              "      <th>1</th>\n",
              "      <td>154.307045</td>\n",
              "      <td>138.482771</td>\n",
              "    </tr>\n",
              "    <tr>\n",
              "      <th>2</th>\n",
              "      <td>129.861048</td>\n",
              "      <td>159.665201</td>\n",
              "    </tr>\n",
              "    <tr>\n",
              "      <th>3</th>\n",
              "      <td>159.096184</td>\n",
              "      <td>145.663528</td>\n",
              "    </tr>\n",
              "    <tr>\n",
              "      <th>4</th>\n",
              "      <td>135.256748</td>\n",
              "      <td>136.789227</td>\n",
              "    </tr>\n",
              "  </tbody>\n",
              "</table>\n",
              "</div>\n",
              "      <button class=\"colab-df-convert\" onclick=\"convertToInteractive('df-fd3256b6-c0a9-4474-bfbc-a60638e4452a')\"\n",
              "              title=\"Convert this dataframe to an interactive table.\"\n",
              "              style=\"display:none;\">\n",
              "        \n",
              "  <svg xmlns=\"http://www.w3.org/2000/svg\" height=\"24px\"viewBox=\"0 0 24 24\"\n",
              "       width=\"24px\">\n",
              "    <path d=\"M0 0h24v24H0V0z\" fill=\"none\"/>\n",
              "    <path d=\"M18.56 5.44l.94 2.06.94-2.06 2.06-.94-2.06-.94-.94-2.06-.94 2.06-2.06.94zm-11 1L8.5 8.5l.94-2.06 2.06-.94-2.06-.94L8.5 2.5l-.94 2.06-2.06.94zm10 10l.94 2.06.94-2.06 2.06-.94-2.06-.94-.94-2.06-.94 2.06-2.06.94z\"/><path d=\"M17.41 7.96l-1.37-1.37c-.4-.4-.92-.59-1.43-.59-.52 0-1.04.2-1.43.59L10.3 9.45l-7.72 7.72c-.78.78-.78 2.05 0 2.83L4 21.41c.39.39.9.59 1.41.59.51 0 1.02-.2 1.41-.59l7.78-7.78 2.81-2.81c.8-.78.8-2.07 0-2.86zM5.41 20L4 18.59l7.72-7.72 1.47 1.35L5.41 20z\"/>\n",
              "  </svg>\n",
              "      </button>\n",
              "      \n",
              "  <style>\n",
              "    .colab-df-container {\n",
              "      display:flex;\n",
              "      flex-wrap:wrap;\n",
              "      gap: 12px;\n",
              "    }\n",
              "\n",
              "    .colab-df-convert {\n",
              "      background-color: #E8F0FE;\n",
              "      border: none;\n",
              "      border-radius: 50%;\n",
              "      cursor: pointer;\n",
              "      display: none;\n",
              "      fill: #1967D2;\n",
              "      height: 32px;\n",
              "      padding: 0 0 0 0;\n",
              "      width: 32px;\n",
              "    }\n",
              "\n",
              "    .colab-df-convert:hover {\n",
              "      background-color: #E2EBFA;\n",
              "      box-shadow: 0px 1px 2px rgba(60, 64, 67, 0.3), 0px 1px 3px 1px rgba(60, 64, 67, 0.15);\n",
              "      fill: #174EA6;\n",
              "    }\n",
              "\n",
              "    [theme=dark] .colab-df-convert {\n",
              "      background-color: #3B4455;\n",
              "      fill: #D2E3FC;\n",
              "    }\n",
              "\n",
              "    [theme=dark] .colab-df-convert:hover {\n",
              "      background-color: #434B5C;\n",
              "      box-shadow: 0px 1px 3px 1px rgba(0, 0, 0, 0.15);\n",
              "      filter: drop-shadow(0px 1px 2px rgba(0, 0, 0, 0.3));\n",
              "      fill: #FFFFFF;\n",
              "    }\n",
              "  </style>\n",
              "\n",
              "      <script>\n",
              "        const buttonEl =\n",
              "          document.querySelector('#df-fd3256b6-c0a9-4474-bfbc-a60638e4452a button.colab-df-convert');\n",
              "        buttonEl.style.display =\n",
              "          google.colab.kernel.accessAllowed ? 'block' : 'none';\n",
              "\n",
              "        async function convertToInteractive(key) {\n",
              "          const element = document.querySelector('#df-fd3256b6-c0a9-4474-bfbc-a60638e4452a');\n",
              "          const dataTable =\n",
              "            await google.colab.kernel.invokeFunction('convertToInteractive',\n",
              "                                                     [key], {});\n",
              "          if (!dataTable) return;\n",
              "\n",
              "          const docLinkHtml = 'Like what you see? Visit the ' +\n",
              "            '<a target=\"_blank\" href=https://colab.research.google.com/notebooks/data_table.ipynb>data table notebook</a>'\n",
              "            + ' to learn more about interactive tables.';\n",
              "          element.innerHTML = '';\n",
              "          dataTable['output_type'] = 'display_data';\n",
              "          await google.colab.output.renderOutput(dataTable, element);\n",
              "          const docLink = document.createElement('div');\n",
              "          docLink.innerHTML = docLinkHtml;\n",
              "          element.appendChild(docLink);\n",
              "        }\n",
              "      </script>\n",
              "    </div>\n",
              "  </div>\n",
              "  "
            ]
          },
          "metadata": {},
          "execution_count": 50
        }
      ]
    },
    {
      "cell_type": "markdown",
      "source": [
        "Null hypothesis is Zingaro has reason to believe now that the unpolished stones be suitable for printing"
      ],
      "metadata": {
        "id": "riIUMUlGjUlI"
      }
    },
    {
      "cell_type": "code",
      "source": [
        "mu1=Zingaro['Treated and Polished'].mean()\n",
        "mu1\n"
      ],
      "metadata": {
        "colab": {
          "base_uri": "https://localhost:8080/"
        },
        "id": "WslchTQQ2nA-",
        "outputId": "c6a1985a-2021-4540-fe10-2e287e8556fd"
      },
      "execution_count": 51,
      "outputs": [
        {
          "output_type": "execute_result",
          "data": {
            "text/plain": [
              "147.78811718133335"
            ]
          },
          "metadata": {},
          "execution_count": 51
        }
      ]
    },
    {
      "cell_type": "code",
      "source": [
        "mu2=Zingaro['Unpolished '].mean()\n",
        "mu2"
      ],
      "metadata": {
        "colab": {
          "base_uri": "https://localhost:8080/"
        },
        "id": "Gb6yn9Vghgx5",
        "outputId": "54f67db5-bedb-4b9d-de3f-aac278c48f97"
      },
      "execution_count": 87,
      "outputs": [
        {
          "output_type": "execute_result",
          "data": {
            "text/plain": [
              "134.11052653373332"
            ]
          },
          "metadata": {},
          "execution_count": 87
        }
      ]
    },
    {
      "cell_type": "code",
      "source": [
        "Zingaro.describe()"
      ],
      "metadata": {
        "colab": {
          "base_uri": "https://localhost:8080/",
          "height": 300
        },
        "id": "O-Q95ZgKNGkj",
        "outputId": "03c981ee-73e2-422a-824e-f866318c3e92"
      },
      "execution_count": 53,
      "outputs": [
        {
          "output_type": "execute_result",
          "data": {
            "text/plain": [
              "       Unpolished   Treated and Polished\n",
              "count    75.000000             75.000000\n",
              "mean    134.110527            147.788117\n",
              "std      33.041804             15.587355\n",
              "min      48.406838            107.524167\n",
              "25%     115.329753            138.268300\n",
              "50%     135.597121            145.721322\n",
              "75%     158.215098            157.373318\n",
              "max     200.161313            192.272856"
            ],
            "text/html": [
              "\n",
              "  <div id=\"df-7eaba2fc-d72b-4979-9eee-079fce72548a\">\n",
              "    <div class=\"colab-df-container\">\n",
              "      <div>\n",
              "<style scoped>\n",
              "    .dataframe tbody tr th:only-of-type {\n",
              "        vertical-align: middle;\n",
              "    }\n",
              "\n",
              "    .dataframe tbody tr th {\n",
              "        vertical-align: top;\n",
              "    }\n",
              "\n",
              "    .dataframe thead th {\n",
              "        text-align: right;\n",
              "    }\n",
              "</style>\n",
              "<table border=\"1\" class=\"dataframe\">\n",
              "  <thead>\n",
              "    <tr style=\"text-align: right;\">\n",
              "      <th></th>\n",
              "      <th>Unpolished</th>\n",
              "      <th>Treated and Polished</th>\n",
              "    </tr>\n",
              "  </thead>\n",
              "  <tbody>\n",
              "    <tr>\n",
              "      <th>count</th>\n",
              "      <td>75.000000</td>\n",
              "      <td>75.000000</td>\n",
              "    </tr>\n",
              "    <tr>\n",
              "      <th>mean</th>\n",
              "      <td>134.110527</td>\n",
              "      <td>147.788117</td>\n",
              "    </tr>\n",
              "    <tr>\n",
              "      <th>std</th>\n",
              "      <td>33.041804</td>\n",
              "      <td>15.587355</td>\n",
              "    </tr>\n",
              "    <tr>\n",
              "      <th>min</th>\n",
              "      <td>48.406838</td>\n",
              "      <td>107.524167</td>\n",
              "    </tr>\n",
              "    <tr>\n",
              "      <th>25%</th>\n",
              "      <td>115.329753</td>\n",
              "      <td>138.268300</td>\n",
              "    </tr>\n",
              "    <tr>\n",
              "      <th>50%</th>\n",
              "      <td>135.597121</td>\n",
              "      <td>145.721322</td>\n",
              "    </tr>\n",
              "    <tr>\n",
              "      <th>75%</th>\n",
              "      <td>158.215098</td>\n",
              "      <td>157.373318</td>\n",
              "    </tr>\n",
              "    <tr>\n",
              "      <th>max</th>\n",
              "      <td>200.161313</td>\n",
              "      <td>192.272856</td>\n",
              "    </tr>\n",
              "  </tbody>\n",
              "</table>\n",
              "</div>\n",
              "      <button class=\"colab-df-convert\" onclick=\"convertToInteractive('df-7eaba2fc-d72b-4979-9eee-079fce72548a')\"\n",
              "              title=\"Convert this dataframe to an interactive table.\"\n",
              "              style=\"display:none;\">\n",
              "        \n",
              "  <svg xmlns=\"http://www.w3.org/2000/svg\" height=\"24px\"viewBox=\"0 0 24 24\"\n",
              "       width=\"24px\">\n",
              "    <path d=\"M0 0h24v24H0V0z\" fill=\"none\"/>\n",
              "    <path d=\"M18.56 5.44l.94 2.06.94-2.06 2.06-.94-2.06-.94-.94-2.06-.94 2.06-2.06.94zm-11 1L8.5 8.5l.94-2.06 2.06-.94-2.06-.94L8.5 2.5l-.94 2.06-2.06.94zm10 10l.94 2.06.94-2.06 2.06-.94-2.06-.94-.94-2.06-.94 2.06-2.06.94z\"/><path d=\"M17.41 7.96l-1.37-1.37c-.4-.4-.92-.59-1.43-.59-.52 0-1.04.2-1.43.59L10.3 9.45l-7.72 7.72c-.78.78-.78 2.05 0 2.83L4 21.41c.39.39.9.59 1.41.59.51 0 1.02-.2 1.41-.59l7.78-7.78 2.81-2.81c.8-.78.8-2.07 0-2.86zM5.41 20L4 18.59l7.72-7.72 1.47 1.35L5.41 20z\"/>\n",
              "  </svg>\n",
              "      </button>\n",
              "      \n",
              "  <style>\n",
              "    .colab-df-container {\n",
              "      display:flex;\n",
              "      flex-wrap:wrap;\n",
              "      gap: 12px;\n",
              "    }\n",
              "\n",
              "    .colab-df-convert {\n",
              "      background-color: #E8F0FE;\n",
              "      border: none;\n",
              "      border-radius: 50%;\n",
              "      cursor: pointer;\n",
              "      display: none;\n",
              "      fill: #1967D2;\n",
              "      height: 32px;\n",
              "      padding: 0 0 0 0;\n",
              "      width: 32px;\n",
              "    }\n",
              "\n",
              "    .colab-df-convert:hover {\n",
              "      background-color: #E2EBFA;\n",
              "      box-shadow: 0px 1px 2px rgba(60, 64, 67, 0.3), 0px 1px 3px 1px rgba(60, 64, 67, 0.15);\n",
              "      fill: #174EA6;\n",
              "    }\n",
              "\n",
              "    [theme=dark] .colab-df-convert {\n",
              "      background-color: #3B4455;\n",
              "      fill: #D2E3FC;\n",
              "    }\n",
              "\n",
              "    [theme=dark] .colab-df-convert:hover {\n",
              "      background-color: #434B5C;\n",
              "      box-shadow: 0px 1px 3px 1px rgba(0, 0, 0, 0.15);\n",
              "      filter: drop-shadow(0px 1px 2px rgba(0, 0, 0, 0.3));\n",
              "      fill: #FFFFFF;\n",
              "    }\n",
              "  </style>\n",
              "\n",
              "      <script>\n",
              "        const buttonEl =\n",
              "          document.querySelector('#df-7eaba2fc-d72b-4979-9eee-079fce72548a button.colab-df-convert');\n",
              "        buttonEl.style.display =\n",
              "          google.colab.kernel.accessAllowed ? 'block' : 'none';\n",
              "\n",
              "        async function convertToInteractive(key) {\n",
              "          const element = document.querySelector('#df-7eaba2fc-d72b-4979-9eee-079fce72548a');\n",
              "          const dataTable =\n",
              "            await google.colab.kernel.invokeFunction('convertToInteractive',\n",
              "                                                     [key], {});\n",
              "          if (!dataTable) return;\n",
              "\n",
              "          const docLinkHtml = 'Like what you see? Visit the ' +\n",
              "            '<a target=\"_blank\" href=https://colab.research.google.com/notebooks/data_table.ipynb>data table notebook</a>'\n",
              "            + ' to learn more about interactive tables.';\n",
              "          element.innerHTML = '';\n",
              "          dataTable['output_type'] = 'display_data';\n",
              "          await google.colab.output.renderOutput(dataTable, element);\n",
              "          const docLink = document.createElement('div');\n",
              "          docLink.innerHTML = docLinkHtml;\n",
              "          element.appendChild(docLink);\n",
              "        }\n",
              "      </script>\n",
              "    </div>\n",
              "  </div>\n",
              "  "
            ]
          },
          "metadata": {},
          "execution_count": 53
        }
      ]
    },
    {
      "cell_type": "code",
      "source": [
        "N =len(Zingaro)\n",
        "print(\"Size of data file is\", N)"
      ],
      "metadata": {
        "colab": {
          "base_uri": "https://localhost:8080/"
        },
        "id": "FdH81waTGrqT",
        "outputId": "43370bce-13a8-4209-e2f5-58d9cc878f16"
      },
      "execution_count": 93,
      "outputs": [
        {
          "output_type": "stream",
          "name": "stdout",
          "text": [
            "Size of data file is 75\n"
          ]
        }
      ]
    },
    {
      "cell_type": "code",
      "source": [
        "Degree_of_freedom=N-1\n",
        "print(\"Degree of freedom is\",Degree_of_freedom)"
      ],
      "metadata": {
        "colab": {
          "base_uri": "https://localhost:8080/"
        },
        "id": "KbTqXCUnG4i7",
        "outputId": "ab243b58-a4b6-4471-e8e3-9e9e8518cd7b"
      },
      "execution_count": 95,
      "outputs": [
        {
          "output_type": "stream",
          "name": "stdout",
          "text": [
            "Degree of freedom is 74\n"
          ]
        }
      ]
    },
    {
      "cell_type": "code",
      "source": [
        "t_statistic, p_value = ttest_1samp(Zingaro['Unpolished '], 150)\n",
        "print(\"The P-value is\",format(p_value))\n",
        "print(\"Test statistic is \",t_statistic)"
      ],
      "metadata": {
        "colab": {
          "base_uri": "https://localhost:8080/"
        },
        "id": "afyuMG4B4xi4",
        "outputId": "bd37cb3d-e39e-469a-f094-53186733eb57"
      },
      "execution_count": 98,
      "outputs": [
        {
          "output_type": "stream",
          "name": "stdout",
          "text": [
            "The P-value is 8.342573994839285e-05\n",
            "Test statistic is  -4.164629601426758\n"
          ]
        }
      ]
    },
    {
      "cell_type": "markdown",
      "source": [
        "P-value is less than alpha so, there are much evidence to reject null hypothesis"
      ],
      "metadata": {
        "id": "COIWqMnrjKqg"
      }
    },
    {
      "cell_type": "markdown",
      "source": [
        "5.2 Is the mean hardness of the polished and unpolished stones the same?"
      ],
      "metadata": {
        "id": "VlYiT9d8og1M"
      }
    },
    {
      "cell_type": "markdown",
      "source": [
        "No they are not same"
      ],
      "metadata": {
        "id": "vr4-H-6rfTSA"
      }
    },
    {
      "cell_type": "code",
      "source": [
        "t_stat, p_val= ttest_ind(Zingaro['Unpolished '],Zingaro['Treated and Polished'])\n",
        "print(\"The P-value is\",format(p_val))\n",
        "print(\"Test statistic is \",t_stat)"
      ],
      "metadata": {
        "colab": {
          "base_uri": "https://localhost:8080/"
        },
        "id": "ywST9BO3fQt9",
        "outputId": "840f18c6-d63b-4a77-f8b5-729f58605a66"
      },
      "execution_count": 99,
      "outputs": [
        {
          "output_type": "stream",
          "name": "stdout",
          "text": [
            "The P-value is 0.001465515019462831\n",
            "Test statistic is  -3.242232050141406\n"
          ]
        }
      ]
    },
    {
      "cell_type": "markdown",
      "source": [
        "P-value is less than alpha so, there are much evidence to reject null hypothesis"
      ],
      "metadata": {
        "id": "D1dGhMx0IV0h"
      }
    },
    {
      "cell_type": "markdown",
      "source": [
        "#Problem 6.\n",
        "# Aquarius health club, one of the largest and most popular cross-fit gyms in the country has been advertising a rigorous program for body conditioning. The program is considered successful if the candidate is able to do more than 5 push-ups, as compared to when he/she enrolled in the program. Using the sample data provided can you conclude whether the program is successful? (Consider the level of Significance as 5%) Note that this is a problem of the paired-t-test. Since the claim is that the training will make a difference of more than 5, the null and alternative hypotheses must be formed accordingly."
      ],
      "metadata": {
        "id": "O9tdRkgt5LVQ"
      }
    },
    {
      "cell_type": "code",
      "source": [
        "Aquarius=pd.read_csv('/content/drive/MyDrive/Aquarius_gym.csv')"
      ],
      "metadata": {
        "id": "0JbIMpL958kr"
      },
      "execution_count": 39,
      "outputs": []
    },
    {
      "cell_type": "code",
      "source": [
        "Aquarius.head()"
      ],
      "metadata": {
        "colab": {
          "base_uri": "https://localhost:8080/",
          "height": 206
        },
        "id": "_CZ3sXPi6Jiu",
        "outputId": "e079b7cd-c5c7-4d3d-f926-3c7f141e0dc5"
      },
      "execution_count": 40,
      "outputs": [
        {
          "output_type": "execute_result",
          "data": {
            "text/plain": [
              "   Sr no.  Before  After\n",
              "0       1      39     44\n",
              "1       2      25     25\n",
              "2       3      39     39\n",
              "3       4       6     13\n",
              "4       5      40     44"
            ],
            "text/html": [
              "\n",
              "  <div id=\"df-729fbe74-e952-49d2-a28f-4071f8807280\">\n",
              "    <div class=\"colab-df-container\">\n",
              "      <div>\n",
              "<style scoped>\n",
              "    .dataframe tbody tr th:only-of-type {\n",
              "        vertical-align: middle;\n",
              "    }\n",
              "\n",
              "    .dataframe tbody tr th {\n",
              "        vertical-align: top;\n",
              "    }\n",
              "\n",
              "    .dataframe thead th {\n",
              "        text-align: right;\n",
              "    }\n",
              "</style>\n",
              "<table border=\"1\" class=\"dataframe\">\n",
              "  <thead>\n",
              "    <tr style=\"text-align: right;\">\n",
              "      <th></th>\n",
              "      <th>Sr no.</th>\n",
              "      <th>Before</th>\n",
              "      <th>After</th>\n",
              "    </tr>\n",
              "  </thead>\n",
              "  <tbody>\n",
              "    <tr>\n",
              "      <th>0</th>\n",
              "      <td>1</td>\n",
              "      <td>39</td>\n",
              "      <td>44</td>\n",
              "    </tr>\n",
              "    <tr>\n",
              "      <th>1</th>\n",
              "      <td>2</td>\n",
              "      <td>25</td>\n",
              "      <td>25</td>\n",
              "    </tr>\n",
              "    <tr>\n",
              "      <th>2</th>\n",
              "      <td>3</td>\n",
              "      <td>39</td>\n",
              "      <td>39</td>\n",
              "    </tr>\n",
              "    <tr>\n",
              "      <th>3</th>\n",
              "      <td>4</td>\n",
              "      <td>6</td>\n",
              "      <td>13</td>\n",
              "    </tr>\n",
              "    <tr>\n",
              "      <th>4</th>\n",
              "      <td>5</td>\n",
              "      <td>40</td>\n",
              "      <td>44</td>\n",
              "    </tr>\n",
              "  </tbody>\n",
              "</table>\n",
              "</div>\n",
              "      <button class=\"colab-df-convert\" onclick=\"convertToInteractive('df-729fbe74-e952-49d2-a28f-4071f8807280')\"\n",
              "              title=\"Convert this dataframe to an interactive table.\"\n",
              "              style=\"display:none;\">\n",
              "        \n",
              "  <svg xmlns=\"http://www.w3.org/2000/svg\" height=\"24px\"viewBox=\"0 0 24 24\"\n",
              "       width=\"24px\">\n",
              "    <path d=\"M0 0h24v24H0V0z\" fill=\"none\"/>\n",
              "    <path d=\"M18.56 5.44l.94 2.06.94-2.06 2.06-.94-2.06-.94-.94-2.06-.94 2.06-2.06.94zm-11 1L8.5 8.5l.94-2.06 2.06-.94-2.06-.94L8.5 2.5l-.94 2.06-2.06.94zm10 10l.94 2.06.94-2.06 2.06-.94-2.06-.94-.94-2.06-.94 2.06-2.06.94z\"/><path d=\"M17.41 7.96l-1.37-1.37c-.4-.4-.92-.59-1.43-.59-.52 0-1.04.2-1.43.59L10.3 9.45l-7.72 7.72c-.78.78-.78 2.05 0 2.83L4 21.41c.39.39.9.59 1.41.59.51 0 1.02-.2 1.41-.59l7.78-7.78 2.81-2.81c.8-.78.8-2.07 0-2.86zM5.41 20L4 18.59l7.72-7.72 1.47 1.35L5.41 20z\"/>\n",
              "  </svg>\n",
              "      </button>\n",
              "      \n",
              "  <style>\n",
              "    .colab-df-container {\n",
              "      display:flex;\n",
              "      flex-wrap:wrap;\n",
              "      gap: 12px;\n",
              "    }\n",
              "\n",
              "    .colab-df-convert {\n",
              "      background-color: #E8F0FE;\n",
              "      border: none;\n",
              "      border-radius: 50%;\n",
              "      cursor: pointer;\n",
              "      display: none;\n",
              "      fill: #1967D2;\n",
              "      height: 32px;\n",
              "      padding: 0 0 0 0;\n",
              "      width: 32px;\n",
              "    }\n",
              "\n",
              "    .colab-df-convert:hover {\n",
              "      background-color: #E2EBFA;\n",
              "      box-shadow: 0px 1px 2px rgba(60, 64, 67, 0.3), 0px 1px 3px 1px rgba(60, 64, 67, 0.15);\n",
              "      fill: #174EA6;\n",
              "    }\n",
              "\n",
              "    [theme=dark] .colab-df-convert {\n",
              "      background-color: #3B4455;\n",
              "      fill: #D2E3FC;\n",
              "    }\n",
              "\n",
              "    [theme=dark] .colab-df-convert:hover {\n",
              "      background-color: #434B5C;\n",
              "      box-shadow: 0px 1px 3px 1px rgba(0, 0, 0, 0.15);\n",
              "      filter: drop-shadow(0px 1px 2px rgba(0, 0, 0, 0.3));\n",
              "      fill: #FFFFFF;\n",
              "    }\n",
              "  </style>\n",
              "\n",
              "      <script>\n",
              "        const buttonEl =\n",
              "          document.querySelector('#df-729fbe74-e952-49d2-a28f-4071f8807280 button.colab-df-convert');\n",
              "        buttonEl.style.display =\n",
              "          google.colab.kernel.accessAllowed ? 'block' : 'none';\n",
              "\n",
              "        async function convertToInteractive(key) {\n",
              "          const element = document.querySelector('#df-729fbe74-e952-49d2-a28f-4071f8807280');\n",
              "          const dataTable =\n",
              "            await google.colab.kernel.invokeFunction('convertToInteractive',\n",
              "                                                     [key], {});\n",
              "          if (!dataTable) return;\n",
              "\n",
              "          const docLinkHtml = 'Like what you see? Visit the ' +\n",
              "            '<a target=\"_blank\" href=https://colab.research.google.com/notebooks/data_table.ipynb>data table notebook</a>'\n",
              "            + ' to learn more about interactive tables.';\n",
              "          element.innerHTML = '';\n",
              "          dataTable['output_type'] = 'display_data';\n",
              "          await google.colab.output.renderOutput(dataTable, element);\n",
              "          const docLink = document.createElement('div');\n",
              "          docLink.innerHTML = docLinkHtml;\n",
              "          element.appendChild(docLink);\n",
              "        }\n",
              "      </script>\n",
              "    </div>\n",
              "  </div>\n",
              "  "
            ]
          },
          "metadata": {},
          "execution_count": 40
        }
      ]
    },
    {
      "cell_type": "markdown",
      "source": [
        "Null hypothesis is the program doesnt make any change taking pushups not succesfull"
      ],
      "metadata": {
        "id": "XsVl3vDBjx_K"
      }
    },
    {
      "cell_type": "code",
      "source": [
        "t_statistic, p_value  = stats.ttest_rel(Aquarius['Before'],Aquarius['After'])\n",
        "print(\"T_statistic value is\",t_statistic)\n",
        "print(\"p_value P value is\",p_value)"
      ],
      "metadata": {
        "colab": {
          "base_uri": "https://localhost:8080/"
        },
        "id": "w4yTNr9u6j_s",
        "outputId": "4977e3ab-0a1f-412a-c9a9-4d7d0849f1ce"
      },
      "execution_count": 43,
      "outputs": [
        {
          "output_type": "stream",
          "name": "stdout",
          "text": [
            "T_statistic value is -19.322619811082458\n",
            "p_value P value is 2.2920419252511966e-35\n"
          ]
        }
      ]
    },
    {
      "cell_type": "code",
      "source": [
        "alpha_level = 0.05\n",
        "\n",
        "if (p_value/2) < alpha_level:\n",
        "    print('We have enough evidence to reject the null hypothesis in favour of alternative hypothesis')\n",
        "    \n",
        "else:\n",
        "    print('We do not have enough evidence to reject the null hypothesis in favour of alternative hypothesis')"
      ],
      "metadata": {
        "colab": {
          "base_uri": "https://localhost:8080/"
        },
        "id": "7eNAqZkt8CnO",
        "outputId": "28ebb126-1230-4f77-d959-e52027ee94ad"
      },
      "execution_count": 44,
      "outputs": [
        {
          "output_type": "stream",
          "name": "stdout",
          "text": [
            "We have enough evidence to reject the null hypothesis in favour of alternative hypothesis\n"
          ]
        }
      ]
    },
    {
      "cell_type": "markdown",
      "source": [
        "#Problem 7:\n",
        "\n",
        "#Dental implant data: The hardness of metal implant in dental cavities depends on multiple factors, such as the method of implant, the temperature at which the metal is treated, the alloy used as well as on the dentists who may favour one method above another and may work better in his/her favourite method. The response is the variable of interest."
      ],
      "metadata": {
        "id": "Wbte5OCD8ueM"
      }
    },
    {
      "cell_type": "markdown",
      "source": [
        "7.1 Test whether there is any difference among the dentists on the implant hardness. State the null and alternative hypotheses. Note that both types of alloys cannot be considered together. You must state the null and alternative hypotheses separately for the two types of alloys.?\n",
        "\n",
        "7.3 Irrespective of your conclusion in 2, we will continue with the testing procedure. What do you conclude regarding whether implant hardness depends on dentists? Clearly state your conclusion. If the null hypothesis is rejected, is it possible to identify which pairs of dentists differ?"
      ],
      "metadata": {
        "id": "uG1AhnGZTXku"
      }
    },
    {
      "cell_type": "code",
      "source": [
        "Dental=pd.read_excel('/content/drive/MyDrive/Dental+Hardness+data.xlsx')"
      ],
      "metadata": {
        "id": "hC8sHddcTIrk"
      },
      "execution_count": 57,
      "outputs": []
    },
    {
      "cell_type": "code",
      "source": [
        "Dental.head()"
      ],
      "metadata": {
        "colab": {
          "base_uri": "https://localhost:8080/",
          "height": 285
        },
        "id": "QGl0idg1UZid",
        "outputId": "7e7e3cd6-4316-4fd7-d865-bebd65ec9a0b"
      },
      "execution_count": 58,
      "outputs": [
        {
          "output_type": "execute_result",
          "data": {
            "text/plain": [
              "   Dentist  Method  Alloy    Temp  Response  Unnamed: 5  Unnamed: 6  \\\n",
              "0      1.0     1.0    1.0  1500.0     813.0         NaN         NaN   \n",
              "1      1.0     1.0    1.0  1600.0     792.0         NaN         NaN   \n",
              "2      1.0     1.0    1.0  1700.0     792.0         NaN         NaN   \n",
              "3      1.0     1.0    2.0  1500.0     907.0         NaN         NaN   \n",
              "4      1.0     1.0    2.0  1600.0     792.0         NaN         NaN   \n",
              "\n",
              "                              Unnamed: 7 Unnamed: 8 Unnamed: 9 Unnamed: 10  \\\n",
              "0  Anova: Two-Factor Without Replication        NaN        NaN         NaN   \n",
              "1                                    NaN        NaN        NaN         NaN   \n",
              "2                                SUMMARY      Count        Sum     Average   \n",
              "3                                      1          4       2315      578.75   \n",
              "4                                      1          4       2394       598.5   \n",
              "\n",
              "     Unnamed: 11 Unnamed: 12 Unnamed: 13  \n",
              "0            NaN         NaN         NaN  \n",
              "1            NaN         NaN         NaN  \n",
              "2       Variance         NaN         NaN  \n",
              "3  523721.583333         NaN         NaN  \n",
              "4         584819         NaN         NaN  "
            ],
            "text/html": [
              "\n",
              "  <div id=\"df-be106bc4-5d78-4953-b4a0-09ca7844a724\">\n",
              "    <div class=\"colab-df-container\">\n",
              "      <div>\n",
              "<style scoped>\n",
              "    .dataframe tbody tr th:only-of-type {\n",
              "        vertical-align: middle;\n",
              "    }\n",
              "\n",
              "    .dataframe tbody tr th {\n",
              "        vertical-align: top;\n",
              "    }\n",
              "\n",
              "    .dataframe thead th {\n",
              "        text-align: right;\n",
              "    }\n",
              "</style>\n",
              "<table border=\"1\" class=\"dataframe\">\n",
              "  <thead>\n",
              "    <tr style=\"text-align: right;\">\n",
              "      <th></th>\n",
              "      <th>Dentist</th>\n",
              "      <th>Method</th>\n",
              "      <th>Alloy</th>\n",
              "      <th>Temp</th>\n",
              "      <th>Response</th>\n",
              "      <th>Unnamed: 5</th>\n",
              "      <th>Unnamed: 6</th>\n",
              "      <th>Unnamed: 7</th>\n",
              "      <th>Unnamed: 8</th>\n",
              "      <th>Unnamed: 9</th>\n",
              "      <th>Unnamed: 10</th>\n",
              "      <th>Unnamed: 11</th>\n",
              "      <th>Unnamed: 12</th>\n",
              "      <th>Unnamed: 13</th>\n",
              "    </tr>\n",
              "  </thead>\n",
              "  <tbody>\n",
              "    <tr>\n",
              "      <th>0</th>\n",
              "      <td>1.0</td>\n",
              "      <td>1.0</td>\n",
              "      <td>1.0</td>\n",
              "      <td>1500.0</td>\n",
              "      <td>813.0</td>\n",
              "      <td>NaN</td>\n",
              "      <td>NaN</td>\n",
              "      <td>Anova: Two-Factor Without Replication</td>\n",
              "      <td>NaN</td>\n",
              "      <td>NaN</td>\n",
              "      <td>NaN</td>\n",
              "      <td>NaN</td>\n",
              "      <td>NaN</td>\n",
              "      <td>NaN</td>\n",
              "    </tr>\n",
              "    <tr>\n",
              "      <th>1</th>\n",
              "      <td>1.0</td>\n",
              "      <td>1.0</td>\n",
              "      <td>1.0</td>\n",
              "      <td>1600.0</td>\n",
              "      <td>792.0</td>\n",
              "      <td>NaN</td>\n",
              "      <td>NaN</td>\n",
              "      <td>NaN</td>\n",
              "      <td>NaN</td>\n",
              "      <td>NaN</td>\n",
              "      <td>NaN</td>\n",
              "      <td>NaN</td>\n",
              "      <td>NaN</td>\n",
              "      <td>NaN</td>\n",
              "    </tr>\n",
              "    <tr>\n",
              "      <th>2</th>\n",
              "      <td>1.0</td>\n",
              "      <td>1.0</td>\n",
              "      <td>1.0</td>\n",
              "      <td>1700.0</td>\n",
              "      <td>792.0</td>\n",
              "      <td>NaN</td>\n",
              "      <td>NaN</td>\n",
              "      <td>SUMMARY</td>\n",
              "      <td>Count</td>\n",
              "      <td>Sum</td>\n",
              "      <td>Average</td>\n",
              "      <td>Variance</td>\n",
              "      <td>NaN</td>\n",
              "      <td>NaN</td>\n",
              "    </tr>\n",
              "    <tr>\n",
              "      <th>3</th>\n",
              "      <td>1.0</td>\n",
              "      <td>1.0</td>\n",
              "      <td>2.0</td>\n",
              "      <td>1500.0</td>\n",
              "      <td>907.0</td>\n",
              "      <td>NaN</td>\n",
              "      <td>NaN</td>\n",
              "      <td>1</td>\n",
              "      <td>4</td>\n",
              "      <td>2315</td>\n",
              "      <td>578.75</td>\n",
              "      <td>523721.583333</td>\n",
              "      <td>NaN</td>\n",
              "      <td>NaN</td>\n",
              "    </tr>\n",
              "    <tr>\n",
              "      <th>4</th>\n",
              "      <td>1.0</td>\n",
              "      <td>1.0</td>\n",
              "      <td>2.0</td>\n",
              "      <td>1600.0</td>\n",
              "      <td>792.0</td>\n",
              "      <td>NaN</td>\n",
              "      <td>NaN</td>\n",
              "      <td>1</td>\n",
              "      <td>4</td>\n",
              "      <td>2394</td>\n",
              "      <td>598.5</td>\n",
              "      <td>584819</td>\n",
              "      <td>NaN</td>\n",
              "      <td>NaN</td>\n",
              "    </tr>\n",
              "  </tbody>\n",
              "</table>\n",
              "</div>\n",
              "      <button class=\"colab-df-convert\" onclick=\"convertToInteractive('df-be106bc4-5d78-4953-b4a0-09ca7844a724')\"\n",
              "              title=\"Convert this dataframe to an interactive table.\"\n",
              "              style=\"display:none;\">\n",
              "        \n",
              "  <svg xmlns=\"http://www.w3.org/2000/svg\" height=\"24px\"viewBox=\"0 0 24 24\"\n",
              "       width=\"24px\">\n",
              "    <path d=\"M0 0h24v24H0V0z\" fill=\"none\"/>\n",
              "    <path d=\"M18.56 5.44l.94 2.06.94-2.06 2.06-.94-2.06-.94-.94-2.06-.94 2.06-2.06.94zm-11 1L8.5 8.5l.94-2.06 2.06-.94-2.06-.94L8.5 2.5l-.94 2.06-2.06.94zm10 10l.94 2.06.94-2.06 2.06-.94-2.06-.94-.94-2.06-.94 2.06-2.06.94z\"/><path d=\"M17.41 7.96l-1.37-1.37c-.4-.4-.92-.59-1.43-.59-.52 0-1.04.2-1.43.59L10.3 9.45l-7.72 7.72c-.78.78-.78 2.05 0 2.83L4 21.41c.39.39.9.59 1.41.59.51 0 1.02-.2 1.41-.59l7.78-7.78 2.81-2.81c.8-.78.8-2.07 0-2.86zM5.41 20L4 18.59l7.72-7.72 1.47 1.35L5.41 20z\"/>\n",
              "  </svg>\n",
              "      </button>\n",
              "      \n",
              "  <style>\n",
              "    .colab-df-container {\n",
              "      display:flex;\n",
              "      flex-wrap:wrap;\n",
              "      gap: 12px;\n",
              "    }\n",
              "\n",
              "    .colab-df-convert {\n",
              "      background-color: #E8F0FE;\n",
              "      border: none;\n",
              "      border-radius: 50%;\n",
              "      cursor: pointer;\n",
              "      display: none;\n",
              "      fill: #1967D2;\n",
              "      height: 32px;\n",
              "      padding: 0 0 0 0;\n",
              "      width: 32px;\n",
              "    }\n",
              "\n",
              "    .colab-df-convert:hover {\n",
              "      background-color: #E2EBFA;\n",
              "      box-shadow: 0px 1px 2px rgba(60, 64, 67, 0.3), 0px 1px 3px 1px rgba(60, 64, 67, 0.15);\n",
              "      fill: #174EA6;\n",
              "    }\n",
              "\n",
              "    [theme=dark] .colab-df-convert {\n",
              "      background-color: #3B4455;\n",
              "      fill: #D2E3FC;\n",
              "    }\n",
              "\n",
              "    [theme=dark] .colab-df-convert:hover {\n",
              "      background-color: #434B5C;\n",
              "      box-shadow: 0px 1px 3px 1px rgba(0, 0, 0, 0.15);\n",
              "      filter: drop-shadow(0px 1px 2px rgba(0, 0, 0, 0.3));\n",
              "      fill: #FFFFFF;\n",
              "    }\n",
              "  </style>\n",
              "\n",
              "      <script>\n",
              "        const buttonEl =\n",
              "          document.querySelector('#df-be106bc4-5d78-4953-b4a0-09ca7844a724 button.colab-df-convert');\n",
              "        buttonEl.style.display =\n",
              "          google.colab.kernel.accessAllowed ? 'block' : 'none';\n",
              "\n",
              "        async function convertToInteractive(key) {\n",
              "          const element = document.querySelector('#df-be106bc4-5d78-4953-b4a0-09ca7844a724');\n",
              "          const dataTable =\n",
              "            await google.colab.kernel.invokeFunction('convertToInteractive',\n",
              "                                                     [key], {});\n",
              "          if (!dataTable) return;\n",
              "\n",
              "          const docLinkHtml = 'Like what you see? Visit the ' +\n",
              "            '<a target=\"_blank\" href=https://colab.research.google.com/notebooks/data_table.ipynb>data table notebook</a>'\n",
              "            + ' to learn more about interactive tables.';\n",
              "          element.innerHTML = '';\n",
              "          dataTable['output_type'] = 'display_data';\n",
              "          await google.colab.output.renderOutput(dataTable, element);\n",
              "          const docLink = document.createElement('div');\n",
              "          docLink.innerHTML = docLinkHtml;\n",
              "          element.appendChild(docLink);\n",
              "        }\n",
              "      </script>\n",
              "    </div>\n",
              "  </div>\n",
              "  "
            ]
          },
          "metadata": {},
          "execution_count": 58
        }
      ]
    },
    {
      "cell_type": "code",
      "source": [
        "Dental.info()"
      ],
      "metadata": {
        "colab": {
          "base_uri": "https://localhost:8080/"
        },
        "id": "u8Br2rSuUtrn",
        "outputId": "ff72143e-ccd5-4af6-e5d5-d11b9a3595f4"
      },
      "execution_count": 60,
      "outputs": [
        {
          "output_type": "stream",
          "name": "stdout",
          "text": [
            "<class 'pandas.core.frame.DataFrame'>\n",
            "RangeIndex: 107 entries, 0 to 106\n",
            "Data columns (total 14 columns):\n",
            " #   Column       Non-Null Count  Dtype  \n",
            "---  ------       --------------  -----  \n",
            " 0   Dentist      90 non-null     float64\n",
            " 1   Method       90 non-null     float64\n",
            " 2   Alloy        90 non-null     float64\n",
            " 3   Temp         90 non-null     float64\n",
            " 4   Response     90 non-null     float64\n",
            " 5   Unnamed: 5   0 non-null      float64\n",
            " 6   Unnamed: 6   0 non-null      float64\n",
            " 7   Unnamed: 7   102 non-null    object \n",
            " 8   Unnamed: 8   100 non-null    object \n",
            " 9   Unnamed: 9   100 non-null    object \n",
            " 10  Unnamed: 10  99 non-null     object \n",
            " 11  Unnamed: 11  98 non-null     object \n",
            " 12  Unnamed: 12  3 non-null      object \n",
            " 13  Unnamed: 13  3 non-null      object \n",
            "dtypes: float64(7), object(7)\n",
            "memory usage: 11.8+ KB\n"
          ]
        }
      ]
    },
    {
      "cell_type": "code",
      "source": [
        "Dental.Dentist = pd.Categorical(Dental.Dentist)"
      ],
      "metadata": {
        "id": "4EzC9_EaU2Dg"
      },
      "execution_count": 61,
      "outputs": []
    },
    {
      "cell_type": "code",
      "source": [
        "Dental.Dentist.value_counts()"
      ],
      "metadata": {
        "colab": {
          "base_uri": "https://localhost:8080/"
        },
        "id": "6rh7hrs_VC4w",
        "outputId": "db31d579-253f-41ab-ce13-70ac4f0f82d2"
      },
      "execution_count": 125,
      "outputs": [
        {
          "output_type": "execute_result",
          "data": {
            "text/plain": [
              "1.0    18\n",
              "2.0    18\n",
              "3.0    18\n",
              "4.0    18\n",
              "5.0    18\n",
              "Name: Dentist, dtype: int64"
            ]
          },
          "metadata": {},
          "execution_count": 125
        }
      ]
    },
    {
      "cell_type": "code",
      "source": [
        "Dental.Method = pd.Categorical(Dental.Method)"
      ],
      "metadata": {
        "id": "GgBVNUcoVX2Y"
      },
      "execution_count": 63,
      "outputs": []
    },
    {
      "cell_type": "code",
      "source": [
        "Dental.Method.value_counts()"
      ],
      "metadata": {
        "colab": {
          "base_uri": "https://localhost:8080/"
        },
        "id": "xNvQYOYhVigr",
        "outputId": "df37ea25-a912-4513-a590-deb7fcd7e905"
      },
      "execution_count": 126,
      "outputs": [
        {
          "output_type": "execute_result",
          "data": {
            "text/plain": [
              "1.0    30\n",
              "2.0    30\n",
              "3.0    30\n",
              "Name: Method, dtype: int64"
            ]
          },
          "metadata": {},
          "execution_count": 126
        }
      ]
    },
    {
      "cell_type": "code",
      "source": [
        "Dental.Alloy = pd.Categorical(Dental.Alloy)"
      ],
      "metadata": {
        "id": "OSxhLx0UVolz"
      },
      "execution_count": 65,
      "outputs": []
    },
    {
      "cell_type": "code",
      "source": [
        "Dental.Alloy.value_counts()"
      ],
      "metadata": {
        "colab": {
          "base_uri": "https://localhost:8080/"
        },
        "id": "CZiOCx41Vxjt",
        "outputId": "77dafcb4-ffe3-44a4-9b4f-d4900ff12745"
      },
      "execution_count": 103,
      "outputs": [
        {
          "output_type": "execute_result",
          "data": {
            "text/plain": [
              "1.0    45\n",
              "2.0    45\n",
              "Name: Alloy, dtype: int64"
            ]
          },
          "metadata": {},
          "execution_count": 103
        }
      ]
    },
    {
      "cell_type": "code",
      "source": [
        "from statsmodels.formula.api import ols    \n",
        "from statsmodels.stats.anova import _get_covariance,anova_lm "
      ],
      "metadata": {
        "id": "QaFWEXJYXybh"
      },
      "execution_count": 68,
      "outputs": []
    },
    {
      "cell_type": "code",
      "source": [
        "dfalloy1=pd.DataFrame()\n",
        "dfalloy1=Dental[Dental.Alloy==1]\n",
        "model5 = ols('Response ~ C(Dentist)',data=dfalloy1).fit()\n",
        "aov_table5 = anova_lm(model5)\n",
        "print(aov_table5)\n"
      ],
      "metadata": {
        "colab": {
          "base_uri": "https://localhost:8080/"
        },
        "id": "Q_UK7RCgmOZ4",
        "outputId": "a08f68f3-6391-414d-9a8b-70e6f6031181"
      },
      "execution_count": 105,
      "outputs": [
        {
          "output_type": "stream",
          "name": "stdout",
          "text": [
            "              df         sum_sq       mean_sq         F    PR(>F)\n",
            "C(Dentist)   4.0  106683.688889  26670.922222  1.977112  0.116567\n",
            "Residual    40.0  539593.555556  13489.838889       NaN       NaN\n"
          ]
        }
      ]
    },
    {
      "cell_type": "code",
      "source": [
        "sns.pointplot(x='Dentist', y='Response', data=Dental, hue='Alloy')"
      ],
      "metadata": {
        "colab": {
          "base_uri": "https://localhost:8080/",
          "height": 297
        },
        "id": "0OkodLTSFeLt",
        "outputId": "85c5bdcb-b92a-4c41-e92e-0ac9af79b0c4"
      },
      "execution_count": 122,
      "outputs": [
        {
          "output_type": "execute_result",
          "data": {
            "text/plain": [
              "<matplotlib.axes._subplots.AxesSubplot at 0x7fa316f43c10>"
            ]
          },
          "metadata": {},
          "execution_count": 122
        },
        {
          "output_type": "display_data",
          "data": {
            "text/plain": [
              "<Figure size 432x288 with 1 Axes>"
            ],
            "image/png": "[encoded data removed]"
          },
          "metadata": {
            "needs_background": "light"
          }
        }
      ]
    },
    {
      "cell_type": "code",
      "source": [
        "dfalloy2=pd.DataFrame()\n",
        "dfalloy2=Dental[Dental.Alloy==2]\n",
        "model6 = ols('Response ~ C(Dentist)',data=dfalloy2).fit()\n",
        "aov_table6 = anova_lm(model6)\n",
        "print(aov_table6)"
      ],
      "metadata": {
        "colab": {
          "base_uri": "https://localhost:8080/"
        },
        "id": "gdnu47DW72Wz",
        "outputId": "a9f917a0-1654-4599-8e2a-d694d4548f90"
      },
      "execution_count": 107,
      "outputs": [
        {
          "output_type": "stream",
          "name": "stdout",
          "text": [
            "              df        sum_sq       mean_sq         F    PR(>F)\n",
            "C(Dentist)   4.0  5.679791e+04  14199.477778  0.524835  0.718031\n",
            "Residual    40.0  1.082205e+06  27055.122222       NaN       NaN\n"
          ]
        }
      ]
    },
    {
      "cell_type": "markdown",
      "source": [
        "7.4 Now test whether there is any difference among the methods on the hardness of dental implant, separately for the two types of alloys. What are your conclusions? If the null hypothesis is rejected, is it possible to identify which pairs of methods differ?"
      ],
      "metadata": {
        "id": "cLvI5_HxKvNn"
      }
    },
    {
      "cell_type": "code",
      "source": [
        "model2= ols('Response ~ C(Method)',data=dfalloy1).fit()\n",
        "aov_table2 = anova_lm(model2)\n",
        "print(aov_table2)"
      ],
      "metadata": {
        "colab": {
          "base_uri": "https://localhost:8080/"
        },
        "id": "afSa01yBXaez",
        "outputId": "2fefa335-d1ba-46c6-cdb5-30d478bbee11"
      },
      "execution_count": 110,
      "outputs": [
        {
          "output_type": "stream",
          "name": "stdout",
          "text": [
            "             df         sum_sq       mean_sq         F    PR(>F)\n",
            "C(Method)   2.0  148472.177778  74236.088889  6.263327  0.004163\n",
            "Residual   42.0  497805.066667  11852.501587       NaN       NaN\n"
          ]
        }
      ]
    },
    {
      "cell_type": "code",
      "source": [
        "sns.pointplot(x='Method', y='Response', data=Dental, hue='Alloy')"
      ],
      "metadata": {
        "colab": {
          "base_uri": "https://localhost:8080/",
          "height": 297
        },
        "id": "WZL5pHVBGOvx",
        "outputId": "71b87b71-b114-4f7c-bf4c-5e384057165f"
      },
      "execution_count": 123,
      "outputs": [
        {
          "output_type": "execute_result",
          "data": {
            "text/plain": [
              "<matplotlib.axes._subplots.AxesSubplot at 0x7fa317034550>"
            ]
          },
          "metadata": {},
          "execution_count": 123
        },
        {
          "output_type": "display_data",
          "data": {
            "text/plain": [
              "<Figure size 432x288 with 1 Axes>"
            ],
            "image/png": "[encoded data removed]"
          },
          "metadata": {
            "needs_background": "light"
          }
        }
      ]
    },
    {
      "cell_type": "code",
      "source": [
        "model1= ols('Response ~ C(Method)',data=dfalloy2).fit()\n",
        "aov_table1 = anova_lm(model1)\n",
        "print(aov_table1)"
      ],
      "metadata": {
        "colab": {
          "base_uri": "https://localhost:8080/"
        },
        "id": "WPT0zDQR8npz",
        "outputId": "72735870-0907-4768-fd59-d200add9f68a"
      },
      "execution_count": 111,
      "outputs": [
        {
          "output_type": "stream",
          "name": "stdout",
          "text": [
            "             df    sum_sq        mean_sq        F    PR(>F)\n",
            "C(Method)   2.0  499640.4  249820.200000  16.4108  0.000005\n",
            "Residual   42.0  639362.4   15222.914286      NaN       NaN\n"
          ]
        }
      ]
    },
    {
      "cell_type": "markdown",
      "source": [
        "7.5 Now test whether there is any difference among the temperature levels on the hardness of dental implant, separately for the two types of alloys. What are your conclusions? If the null hypothesis is rejected, is it possible to identify which levels of temperatures differ?"
      ],
      "metadata": {
        "id": "k7v-D6WAK1tx"
      }
    },
    {
      "cell_type": "code",
      "source": [
        "model9= ols('Response ~ Temp',data=dfalloy1).fit()\n",
        "aov_table9 = anova_lm(model9)\n",
        "print(aov_table9)"
      ],
      "metadata": {
        "colab": {
          "base_uri": "https://localhost:8080/"
        },
        "id": "vYavC-HU95bn",
        "outputId": "fd89a0ff-0a1e-46ea-d94c-5108e9be391a"
      },
      "execution_count": 112,
      "outputs": [
        {
          "output_type": "stream",
          "name": "stdout",
          "text": [
            "            df         sum_sq       mean_sq         F    PR(>F)\n",
            "Temp       1.0   10083.333333  10083.333333  0.681527  0.413618\n",
            "Residual  43.0  636193.911111  14795.207235       NaN       NaN\n"
          ]
        }
      ]
    },
    {
      "cell_type": "code",
      "source": [
        "sns.pointplot(x='Temp', y='Response', data=Dental, hue='Alloy')"
      ],
      "metadata": {
        "colab": {
          "base_uri": "https://localhost:8080/",
          "height": 297
        },
        "id": "bzRBzilAGWoq",
        "outputId": "e5d0dcca-3f79-4a14-c8fc-17cfb9455a29"
      },
      "execution_count": 124,
      "outputs": [
        {
          "output_type": "execute_result",
          "data": {
            "text/plain": [
              "<matplotlib.axes._subplots.AxesSubplot at 0x7fa319f67d00>"
            ]
          },
          "metadata": {},
          "execution_count": 124
        },
        {
          "output_type": "display_data",
          "data": {
            "text/plain": [
              "<Figure size 432x288 with 1 Axes>"
            ],
            "image/png": "[encoded data removed]"
          },
          "metadata": {
            "needs_background": "light"
          }
        }
      ]
    },
    {
      "cell_type": "code",
      "source": [
        "model8= ols('Response ~ Temp',data=dfalloy2).fit()\n",
        "aov_table8 = anova_lm(model8)\n",
        "print(aov_table8)"
      ],
      "metadata": {
        "colab": {
          "base_uri": "https://localhost:8080/"
        },
        "id": "cLx7brk2-ZGs",
        "outputId": "f2131bed-a8c5-42bd-e329-15e2ac03a7d9"
      },
      "execution_count": 113,
      "outputs": [
        {
          "output_type": "stream",
          "name": "stdout",
          "text": [
            "            df        sum_sq       mean_sq         F    PR(>F)\n",
            "Temp       1.0  8.629603e+04  86296.033333  3.524941  0.067246\n",
            "Residual  43.0  1.052707e+06  24481.552713       NaN       NaN\n"
          ]
        }
      ]
    },
    {
      "cell_type": "markdown",
      "source": [
        "7.6 Consider the interaction effect of dentist and method and comment on the interaction plot, separately for the two types of alloys?"
      ],
      "metadata": {
        "id": "csex58EZK_FF"
      }
    },
    {
      "cell_type": "markdown",
      "source": [
        "Interaction effect"
      ],
      "metadata": {
        "id": "7hZCv4RN-0Cs"
      }
    },
    {
      "cell_type": "code",
      "source": [
        "model3= ols('Response ~ C(Dentist) + C(Method) + C(Dentist):C(Method)',data=dfalloy1).fit()\n",
        "aov_table3 = anova_lm(model3)\n",
        "print(aov_table3)"
      ],
      "metadata": {
        "colab": {
          "base_uri": "https://localhost:8080/"
        },
        "id": "qffozsPo8gVl",
        "outputId": "1e5cddf8-c900-4298-8569-e793b8eff065"
      },
      "execution_count": 114,
      "outputs": [
        {
          "output_type": "stream",
          "name": "stdout",
          "text": [
            "                        df         sum_sq       mean_sq          F    PR(>F)\n",
            "C(Dentist)             4.0  106683.688889  26670.922222   3.899638  0.011484\n",
            "C(Method)              2.0  148472.177778  74236.088889  10.854287  0.000284\n",
            "C(Dentist):C(Method)   8.0  185941.377778  23242.672222   3.398383  0.006793\n",
            "Residual              30.0  205180.000000   6839.333333        NaN       NaN\n"
          ]
        }
      ]
    },
    {
      "cell_type": "markdown",
      "source": [
        "7.7 Now consider the effect of both factors, dentist, and method, separately on each alloy. What do you conclude? Is it possible to identify which dentists are different, which methods are different, and which interaction levels are different?"
      ],
      "metadata": {
        "id": "mEAPTOwp-1-O"
      }
    },
    {
      "cell_type": "code",
      "source": [
        "sns.pointplot(x='Dentist', y='Response', data=dfalloy1, hue='Method')"
      ],
      "metadata": {
        "colab": {
          "base_uri": "https://localhost:8080/",
          "height": 353
        },
        "id": "aLk2lcQBFxmD",
        "outputId": "e1543569-fc6f-4568-e7cd-474752fe1696"
      },
      "execution_count": 119,
      "outputs": [
        {
          "output_type": "stream",
          "name": "stderr",
          "text": [
            "/usr/local/lib/python3.8/dist-packages/pandas/io/formats/format.py:1429: FutureWarning: Index.ravel returning ndarray is deprecated; in a future version this will return a view on self.\n",
            "  for val, m in zip(values.ravel(), mask.ravel())\n"
          ]
        },
        {
          "output_type": "execute_result",
          "data": {
            "text/plain": [
              "<matplotlib.axes._subplots.AxesSubplot at 0x7fa31716f0a0>"
            ]
          },
          "metadata": {},
          "execution_count": 119
        },
        {
          "output_type": "display_data",
          "data": {
            "text/plain": [
              "<Figure size 432x288 with 1 Axes>"
            ],
            "image/png": "[encoded data removed]"
          },
          "metadata": {
            "needs_background": "light"
          }
        }
      ]
    },
    {
      "cell_type": "code",
      "source": [
        "model4= ols('Response ~ C(Dentist) + C(Method) + C(Dentist):C(Method)',data=dfalloy2).fit()\n",
        "aov_table4 = anova_lm(model4)\n",
        "print(aov_table4)"
      ],
      "metadata": {
        "colab": {
          "base_uri": "https://localhost:8080/"
        },
        "id": "56YNF1YR-7LO",
        "outputId": "334a07f3-ce81-42ac-9e6d-d2489a1d1fe5"
      },
      "execution_count": 115,
      "outputs": [
        {
          "output_type": "stream",
          "name": "stdout",
          "text": [
            "                        df         sum_sq        mean_sq          F    PR(>F)\n",
            "C(Dentist)             4.0   56797.911111   14199.477778   1.106152  0.371833\n",
            "C(Method)              2.0  499640.400000  249820.200000  19.461218  0.000004\n",
            "C(Dentist):C(Method)   8.0  197459.822222   24682.477778   1.922787  0.093234\n",
            "Residual              30.0  385104.666667   12836.822222        NaN       NaN\n"
          ]
        }
      ]
    },
    {
      "cell_type": "markdown",
      "source": [],
      "metadata": {
        "id": "cvfOfOcdYuLV"
      }
    },
    {
      "cell_type": "code",
      "source": [
        "sns.pointplot(x='Dentist', y='Response', data=dfalloy2, hue='Method')"
      ],
      "metadata": {
        "colab": {
          "base_uri": "https://localhost:8080/",
          "height": 353
        },
        "id": "6xzrzRmPF1MW",
        "outputId": "e1f2144b-7800-4476-e7f6-993247a5625f"
      },
      "execution_count": 120,
      "outputs": [
        {
          "output_type": "stream",
          "name": "stderr",
          "text": [
            "/usr/local/lib/python3.8/dist-packages/pandas/io/formats/format.py:1429: FutureWarning: Index.ravel returning ndarray is deprecated; in a future version this will return a view on self.\n",
            "  for val, m in zip(values.ravel(), mask.ravel())\n"
          ]
        },
        {
          "output_type": "execute_result",
          "data": {
            "text/plain": [
              "<matplotlib.axes._subplots.AxesSubplot at 0x7fa317097c40>"
            ]
          },
          "metadata": {},
          "execution_count": 120
        },
        {
          "output_type": "display_data",
          "data": {
            "text/plain": [
              "<Figure size 432x288 with 1 Axes>"
            ],
            "image/png": "[encoded data removed]"
          },
          "metadata": {
            "needs_background": "light"
          }
        }
      ]
    }
  ]
}